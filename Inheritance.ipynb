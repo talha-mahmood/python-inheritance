{
  "nbformat": 4,
  "nbformat_minor": 0,
  "metadata": {
    "colab": {
      "provenance": []
    },
    "kernelspec": {
      "name": "python3",
      "display_name": "Python 3"
    },
    "language_info": {
      "name": "python"
    }
  },
  "cells": [
    {
      "cell_type": "markdown",
      "source": [
        "1. Single Inheritance\n",
        "Task:\n",
        "Design a class Vehicle with attributes make and model, and a method describe() that prints\n",
        "&quot;This is a [make] [model].&quot; Create a subclass Car that inherits from Vehicle, adds an attribute\n",
        "number_of_doors, and overrides describe() to include the number of doors."
      ],
      "metadata": {
        "id": "DulxwNTSNkaC"
      }
    },
    {
      "cell_type": "code",
      "source": [
        "class Vehicle:\n",
        "    def __init__(self, make, model):\n",
        "        self.make = make\n",
        "        self.model = model\n",
        "\n",
        "    def describe(self):\n",
        "        print(f\"This is a {self.make} {self.model}.\")\n",
        "\n",
        "class Car(Vehicle):\n",
        "    def __init__(self, make, model, number_of_doors):\n",
        "        super().__init__(make, model)\n",
        "        self.number_of_doors = number_of_doors\n",
        "\n",
        "    def describe(self):\n",
        "        super().describe()\n",
        "        print(f\"It has {self.number_of_doors} doors.\")\n",
        "\n",
        "\n",
        "\n",
        "car = Car(\"Toyota\", \"Camry\", 4)\n",
        "car.describe()"
      ],
      "metadata": {
        "colab": {
          "base_uri": "https://localhost:8080/"
        },
        "id": "tBW7KbydNmg8",
        "outputId": "ce3f41aa-5ba3-42ff-e1fd-4aa528f592f9"
      },
      "execution_count": null,
      "outputs": [
        {
          "output_type": "stream",
          "name": "stdout",
          "text": [
            "This is a Toyota Camry.\n",
            "It has 4 doors.\n"
          ]
        }
      ]
    },
    {
      "cell_type": "markdown",
      "source": [
        "2. Multiple Inheritance\n",
        "Task:\n",
        "Create two classes: Artist with a method create_art() and Musician with a method\n",
        "play_music(). Then, create a class PerformingArtist that inherits from both Artist and\n",
        "Musician. Implement a method perform() in PerformingArtist that calls both create_art()\n",
        "and play_music()."
      ],
      "metadata": {
        "id": "I1nDD9_RPx4t"
      }
    },
    {
      "cell_type": "code",
      "source": [
        "class Artist:\n",
        "    def create_art(self):\n",
        "        print(\"Creating art.\")\n",
        "\n",
        "class Musician:\n",
        "    def play_music(self):\n",
        "        print(\"Playing music.\")\n",
        "\n",
        "class PerformingArtist(Artist, Musician):\n",
        "    def perform(self):\n",
        "        self.create_art()\n",
        "        self.play_music()\n",
        "\n",
        "performing_artist = PerformingArtist()\n",
        "performing_artist.perform()"
      ],
      "metadata": {
        "colab": {
          "base_uri": "https://localhost:8080/"
        },
        "id": "kSmL5JJCPskm",
        "outputId": "15c74400-7dfe-4bb3-cfa2-7e501a7e57ff"
      },
      "execution_count": null,
      "outputs": [
        {
          "output_type": "stream",
          "name": "stdout",
          "text": [
            "Creating art.\n",
            "Playing music.\n"
          ]
        }
      ]
    },
    {
      "cell_type": "markdown",
      "source": [
        "3. Multilevel Inheritance\n",
        "Task:\n",
        "Implement a class hierarchy where Grandparent has an attribute family_name. Create a\n",
        "subclass Parent that inherits from Grandparent and adds an attribute occupation. Then, create\n",
        "a subclass Child that inherits from Parent and adds an attribute age. Implement methods in\n",
        "each class to display the respective attributes."
      ],
      "metadata": {
        "id": "PG0VqaJrQsJx"
      }
    },
    {
      "cell_type": "code",
      "source": [
        "class Grandparent:\n",
        "    def __init__(self, family_name):\n",
        "        self.family_name = family_name\n",
        "    def display_family_name(self):\n",
        "      print(f\"Family name is {self.family_name}\")\n",
        "\n",
        "class Parent(Grandparent):\n",
        "    def __init__(self, family_name, occupation):\n",
        "        super().__init__(family_name)\n",
        "        self.occupation = occupation\n",
        "\n",
        "    def display_occupation(self):\n",
        "      print(f\"Occupation is {self.occupation}\")\n",
        "\n",
        "class Child(Parent):\n",
        "  def __init__(self,family_name,occupation,age):\n",
        "    super().__init__(family_name,occupation)\n",
        "    self.age=age\n",
        "  def display_age(self):\n",
        "    print(f\"Age is {self.age}\")\n",
        "\n",
        "\n",
        "Child=Child(\"Doe\",\"Engineer\",30)\n",
        "Child.display_family_name()\n",
        "Child.display_occupation()\n",
        "Child.display_age()\n",
        "\n",
        "\n"
      ],
      "metadata": {
        "colab": {
          "base_uri": "https://localhost:8080/"
        },
        "id": "_tq-LtXLQvqY",
        "outputId": "f69621e9-d8b7-4117-f4e1-abbbc61cf359"
      },
      "execution_count": null,
      "outputs": [
        {
          "output_type": "stream",
          "name": "stdout",
          "text": [
            "Family name is Doe\n",
            "Occupation is Engineer\n",
            "Age is 30\n"
          ]
        }
      ]
    },
    {
      "cell_type": "markdown",
      "source": [
        "4. Hierarchical Inheritance\n",
        "Task:\n",
        "Design a base class Employee with attributes name and employee_id. Create two subclasses,\n",
        "Manager and Developer, both inheriting from Employee. Add specific attributes to each\n",
        "subclass (e.g., department for Manager and programming_language for Developer).\n",
        "Implement methods to display details for each subclass."
      ],
      "metadata": {
        "id": "_2xzTdpaSrNo"
      }
    },
    {
      "cell_type": "code",
      "source": [
        "class Employee:\n",
        "    def __init__(self, name, employee_id):\n",
        "        self.name = name\n",
        "        self.employee_id = employee_id\n",
        "\n",
        "class Manager(Employee):\n",
        "    def __init__(self, name, employee_id, department):\n",
        "        super().__init__(name, employee_id)\n",
        "        self.department = department\n",
        "    def display_details(self):\n",
        "        print(\"Manager\")\n",
        "        print(f\"Name: {self.name}\")\n",
        "        print(f\"Employee ID: {self.employee_id}\")\n",
        "        print(f\"Department: {self.department}\")\n",
        "class Developer(Employee):\n",
        "    def __init__(self, name, employee_id, programming_language):\n",
        "        super().__init__(name, employee_id)\n",
        "        self.programming_language = programming_language\n",
        "\n",
        "    def display_details(self):\n",
        "        print(\"Developer\")\n",
        "        print(f\"Name: {self.name}\")\n",
        "        print(f\"Employee ID: {self.employee_id}\")\n",
        "        print(f\"Programming Language: {self.programming_language}\")\n",
        "\n",
        "\n",
        "manager = Manager(\"John Doe\", 123, \"HR\")\n",
        "manager.display_details()\n",
        "\n",
        "developer = Developer(\"Jane Smith\", 456, \"Python\")\n",
        "developer.display_details()"
      ],
      "metadata": {
        "colab": {
          "base_uri": "https://localhost:8080/"
        },
        "id": "Mp41xu-0SOJT",
        "outputId": "5c0e1ee2-ec6c-4e05-8fd7-783d281672d0"
      },
      "execution_count": null,
      "outputs": [
        {
          "output_type": "stream",
          "name": "stdout",
          "text": [
            "Manager\n",
            "Name: John Doe\n",
            "Employee ID: 123\n",
            "Department: HR\n",
            "Developer\n",
            "Name: Jane Smith\n",
            "Employee ID: 456\n",
            "Programming Language: Python\n"
          ]
        }
      ]
    },
    {
      "cell_type": "markdown",
      "source": [
        "5. Hybrid Inheritance\n",
        "Task:\n",
        "Create a base class Person with attributes name and age. Create two subclasses, Student (with\n",
        "attributes student_id and major) and Employee (with attributes employee_id and\n",
        "department). Then, create another class GraduateStudent that inherits from both Student and\n",
        "Employee. Implement methods to display the attributes of GraduateStudent and resolve\n",
        "potential issues with multiple inheritance."
      ],
      "metadata": {
        "id": "_BkoCKjtT_Xw"
      }
    },
    {
      "cell_type": "code",
      "source": [
        "class Person:\n",
        "    def __init__(self, name, age):\n",
        "        self.name = name\n",
        "        self.age = age\n",
        "\n",
        "class Student(Person):\n",
        "    def __init__(self, person, student_id, major):\n",
        "        super().__init__(person.name, person.age)\n",
        "        self.student_id = student_id\n",
        "        self.major = major\n",
        "\n",
        "class Employee(Person):\n",
        "    def __init__(self, person, employee_id, department):\n",
        "        super().__init__(person.name, person.age)\n",
        "        self.employee_id = employee_id\n",
        "        self.department = department\n",
        "\n",
        "class GraduateStudent:\n",
        "    def __init__(self, student, employee):\n",
        "        self.name = student.name\n",
        "        self.age = student.age\n",
        "        self.student_id = student.student_id\n",
        "        self.major = student.major\n",
        "        self.employee_id = employee.employee_id\n",
        "        self.department = employee.department\n",
        "\n",
        "    def display_details(self):\n",
        "        print(f\"Name: {self.name}\")\n",
        "        print(f\"Age: {self.age}\")\n",
        "        print(f\"Student ID: {self.student_id}\")\n",
        "        print(f\"Major: {self.major}\")\n",
        "        print(f\"Employee ID: {self.employee_id}\")\n",
        "        print(f\"Department: {self.department}\")\n",
        "\n",
        "# Create instances\n",
        "P = Person(\"Awan\", 20)\n",
        "S = Student(P, 123, \"IT\")\n",
        "E = Employee(P, 456, \"HR\")\n",
        "G = GraduateStudent(S, E)\n",
        "G.display_details()"
      ],
      "metadata": {
        "colab": {
          "base_uri": "https://localhost:8080/"
        },
        "id": "xOdd-qwrUEow",
        "outputId": "724f0e8d-d1e1-4ed5-d8f4-631c70b518bf"
      },
      "execution_count": null,
      "outputs": [
        {
          "output_type": "stream",
          "name": "stdout",
          "text": [
            "Name: Awan\n",
            "Age: 20\n",
            "Student ID: 123\n",
            "Major: IT\n",
            "Employee ID: 456\n",
            "Department: HR\n"
          ]
        }
      ]
    }
  ]
}